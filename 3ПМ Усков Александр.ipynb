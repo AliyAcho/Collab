{
  "nbformat": 4,
  "nbformat_minor": 0,
  "metadata": {
    "colab": {
      "name": "HomeWork.ipynb",
      "provenance": [],
      "authorship_tag": "ABX9TyObkq7E83o7lv1H60cIkvRD",
      "include_colab_link": true
    },
    "kernelspec": {
      "name": "python3",
      "display_name": "Python 3"
    }
  },
  "cells": [
    {
      "cell_type": "markdown",
      "metadata": {
        "id": "fU0YcaQqDppa",
        "colab_type": "text"
      },
      "source": [
        "# Домашнее задание 1\n",
        "\n",
        "1. Графики функций распределения и плотности распределения для хотя бы одного дискретного распределения и одного абсолютно непрерывного\n",
        "2. Равномерно распределение u - U(0,1). Мы хотим получиться распределение с заданной функцией распределения F(x). Каким образом это можно сделать t(u).\n",
        "3. Произвести генерацию распределения через U(0,1)\n"
      ]
    },
    {
      "cell_type": "code",
      "execution_count": null,
      "metadata": {},
      "outputs": [],
      "source": []
    }
  ]
}