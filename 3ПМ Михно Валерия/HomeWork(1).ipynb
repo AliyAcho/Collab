{
  "nbformat": 4,
  "nbformat_minor": 0,
  "metadata": {
    "colab": {
      "name": "Untitled3.ipynb",
      "provenance": [],
      "authorship_tag": "ABX9TyPISxiOHl/G4A86RzRvTV1t"
    },
    "kernelspec": {
      "name": "python3",
      "display_name": "Python 3"
    }
  },
  "cells": [
    {
      "cell_type": "code",
      "metadata": {
        "id": "YeqdANJdQDr8",
        "outputId": "82267b36-54e8-458f-ebd7-1ac18912e0b7",
        "colab": {
          "base_uri": "https://localhost:8080/",
          "height": 34
        }
      },
      "source": [
        "print (\"фыр\")\n"
      ],
      "execution_count": 1,
      "outputs": [
        {
          "output_type": "stream",
          "text": [
            "фыр\n"
          ],
          "name": "stdout"
        }
      ]
    }
  ]
}