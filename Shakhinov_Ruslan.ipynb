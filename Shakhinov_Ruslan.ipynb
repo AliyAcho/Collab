{
  "nbformat": 4,
  "nbformat_minor": 0,
  "metadata": {
    "colab": {
      "name": "Shakhinov_Ruslan.ipynb",
      "provenance": [],
      "authorship_tag": "ABX9TyMfgfYxk+UBj6sGe4Wzfiz2",
      "include_colab_link": true
    },
    "kernelspec": {
      "name": "python3",
      "display_name": "Python 3"
    }
  },
  "cells": [
    {
      "cell_type": "markdown",
      "metadata": {
        "id": "view-in-github",
        "colab_type": "text"
      },
      "source": [
        "<a href=\"https://colab.research.google.com/github/Groupac/Collab/blob/master/Shakhinov_Ruslan.ipynb\" target=\"_parent\"><img src=\"https://colab.research.google.com/assets/colab-badge.svg\" alt=\"Open In Colab\"/></a>"
      ]
    },
    {
      "cell_type": "code",
      "metadata": {
        "id": "dm4Ac7KMPC0O"
      },
      "source": [
        "Hello world"
      ],
      "execution_count": null,
      "outputs": []
    }
  ]
}