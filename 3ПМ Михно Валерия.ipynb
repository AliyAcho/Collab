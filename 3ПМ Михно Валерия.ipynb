{
  "nbformat": 4,
  "nbformat_minor": 0,
  "metadata": {
    "colab": {
      "name": "Untitled3.ipynb",
      "provenance": [],
      "authorship_tag": "ABX9TyORmF1OKBBqrvPzEUl/7iRX",
      "include_colab_link": true
    },
    "kernelspec": {
      "name": "python3",
      "display_name": "Python 3"
    }
  },
  "cells": [
    {
      "cell_type": "markdown",
      "metadata": {
        "id": "view-in-github",
        "colab_type": "text"
      },
      "source": [
        "<a href=\"https://colab.research.google.com/github/Groupac/Collab/blob/master/3%D0%9F%D0%9C%20%D0%9C%D0%B8%D1%85%D0%BD%D0%BE%20%D0%92%D0%B0%D0%BB%D0%B5%D1%80%D0%B8%D1%8F/HomeWork.ipynb\" target=\"_parent\"><img src=\"https://colab.research.google.com/assets/colab-badge.svg\" alt=\"Open In Colab\"/></a>"
      ]
    },
    {
      "cell_type": "code",
      "metadata": {
        "id": "YeqdANJdQDr8"
      },
      "source": [
        "фыр"
      ],
      "execution_count": null,
      "outputs": []
    }
  ]
}