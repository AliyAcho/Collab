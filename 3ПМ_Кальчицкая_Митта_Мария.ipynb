{
  "nbformat": 4,
  "nbformat_minor": 0,
  "metadata": {
    "colab": {
      "name": "3ПМ_Кальчицкая_Митта-Мария.ipynb",
      "provenance": [],
      "authorship_tag": "ABX9TyOLcEjIXSsW2y015YH8gfuP",
      "include_colab_link": true
    },
    "kernelspec": {
      "name": "python3",
      "display_name": "Python 3"
    }
  },
  "cells": [
    {
      "cell_type": "markdown",
      "metadata": {
        "id": "view-in-github",
        "colab_type": "text"
      },
      "source": [
        "<a href=\"https://colab.research.google.com/github/Groupac/Collab/blob/master/3%D0%9F%D0%9C_%D0%9A%D0%B0%D0%BB%D1%8C%D1%87%D0%B8%D1%86%D0%BA%D0%B0%D1%8F_%D0%9C%D0%B8%D1%82%D1%82%D0%B0_%D0%9C%D0%B0%D1%80%D0%B8%D1%8F.ipynb\" target=\"_parent\"><img src=\"https://colab.research.google.com/assets/colab-badge.svg\" alt=\"Open In Colab\"/></a>"
      ]
    },
    {
      "cell_type": "code",
      "metadata": {
        "id": "TCH87RLtAjQG"
      },
      "source": [
        ""
      ],
      "execution_count": null,
      "outputs": []
    }
  ]
}