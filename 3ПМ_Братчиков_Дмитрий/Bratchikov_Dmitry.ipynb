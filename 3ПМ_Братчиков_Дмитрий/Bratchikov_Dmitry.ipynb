{
  "nbformat": 4,
  "nbformat_minor": 0,
  "metadata": {
    "colab": {
      "name": "Bratchikov_Dmitry.ipynb",
      "provenance": [],
      "collapsed_sections": [],
      "authorship_tag": "ABX9TyNbPBBBlQN7NYfqMaaOSMvQ",
      "include_colab_link": true
    },
    "kernelspec": {
      "name": "python3",
      "display_name": "Python 3"
    }
  },
  "cells": [
    {
      "cell_type": "markdown",
      "metadata": {
        "id": "view-in-github",
        "colab_type": "text"
      },
      "source": [
        "<a href=\"https://colab.research.google.com/github/Groupac/Collab/blob/master/3%D0%9F%D0%9C_%D0%91%D1%80%D0%B0%D1%82%D1%87%D0%B8%D0%BA%D0%BE%D0%B2_%D0%94%D0%BC%D0%B8%D1%82%D1%80%D0%B8%D0%B9/Bratchikov_Dmitry.ipynb\" target=\"_parent\"><img src=\"https://colab.research.google.com/assets/colab-badge.svg\" alt=\"Open In Colab\"/></a>"
      ]
    },
    {
      "cell_type": "markdown",
      "metadata": {
        "id": "QQVVrBpspE3F"
      },
      "source": [
        "# **Построение графика абсолютно непрерывного равномерного распределения на примере задачки**\n",
        " Условие: Непрерывная случайная величина X задана своей плотностью распределения\n",
        "$$\n",
        "F(x)=\\left\\{%\n",
        "\\begin{array}{ll}\n",
        "    C, & \\hbox{$x \\in (-1;3)$;} \\\\\n",
        "    0, & \\hbox{$x \\notin (-1;3)$;} \\\\\\end{array}%\n",
        "\\right.\n",
        "$$"
      ]
    },
    {
      "cell_type": "code",
      "metadata": {
        "id": "A1kLTZpYpDUG",
        "outputId": "0e14f571-5cb2-47f9-d226-b9f603f0e36d",
        "colab": {
          "base_uri": "https://localhost:8080/",
          "height": 296
        }
      },
      "source": [
        "import matplotlib.pyplot as plt\n",
        "import numpy as np\n",
        "a = -1\n",
        "b = 3\n",
        "C= 1/(b-a)\n",
        "\n",
        "#задаём значение X \n",
        "x1 = np.linspace(-1,3,4)\n",
        "x2 = np.linspace(-10,-1)\n",
        "x3 = np.linspace(3,10)\n",
        "\n",
        "#задаём значения Y на всех участках\n",
        "y1 = [C for i in x1]\n",
        "y2 = [0 for i in x2]\n",
        "y3 = [0 for i in x3]\n",
        "\n",
        "#построение графика плотности распределения\n",
        "plt.subplot(211)\n",
        "plt.xlabel(\"x\")\n",
        "plt.ylabel(\"y\")\n",
        "plt.grid()  \n",
        "plt.plot(x1,y1, color=\"Black\")\n",
        "plt.plot(x2,y2, color=\"Black\")\n",
        "plt.plot(x3,y3, color=\"Black\")\n",
        "\n",
        "#указываем точки на конце, где значение включено\n",
        "plt.scatter(-1,0, color=\"Black\", s=35, marker = \"o\")  \n",
        "plt.scatter(3,0, color=\"Black\", s=35, marker = \"o\")\n",
        "\n",
        "#значени Y для графика распределения\n",
        "y = [C*(i+1) for i in x1]\n",
        "y2 = [0 for i in x2]\n",
        "y3 = [1 for i in x3]\n",
        "\n",
        "#построение графика распределения\n",
        "plt.subplot(212)\n",
        "plt.xlabel(\"x\")\n",
        "plt.ylabel(\"y\")\n",
        "plt.grid()  \n",
        "plt.plot(x1,y, color=\"Black\")\n",
        "plt.plot(x2,y2, color=\"Black\")\n",
        "plt.plot(x3,y3, color=\"Black\")\n",
        "\n"
      ],
      "execution_count": 75,
      "outputs": [
        {
          "output_type": "execute_result",
          "data": {
            "text/plain": [
              "[<matplotlib.lines.Line2D at 0x7f176e544c18>]"
            ]
          },
          "metadata": {
            "tags": []
          },
          "execution_count": 75
        },
        {
          "output_type": "display_data",
          "data": {
            "image/png": "[encoded data removed]",
            "text/plain": [
              "<Figure size 432x288 with 2 Axes>"
            ]
          },
          "metadata": {
            "tags": [],
            "needs_background": "light"
          }
        }
      ]
    },
    {
      "cell_type": "markdown",
      "metadata": {
        "id": "BjV7sKg4DAtK"
      },
      "source": [
        "# **Построение графика биноминального распределения с параметрами (n,p)**\n",
        "\n"
      ]
    },
    {
      "cell_type": "code",
      "metadata": {
        "id": "8BYlgMAhEl8e",
        "outputId": "98d9237c-bc2b-40e9-8eb5-7b4a976a3fc6",
        "colab": {
          "base_uri": "https://localhost:8080/",
          "height": 215
        }
      },
      "source": [
        "import matplotlib.pyplot as plt\n",
        "import numpy as np\n",
        "k = []\n",
        "print('Введите p(0<p<1): ')\n",
        "p = float(input())\n",
        "print('Введите n(целое): ')\n",
        "n = int(input())\n",
        "for i in range(n):\n",
        "  k.append(i)\n",
        "\n",
        "#функция нахождения числа сочетаний \n",
        "def C(n, k):\n",
        "    if k == n or k== 0:\n",
        "        return 1\n",
        "    if k != 1:\n",
        "        return C(n-1, k) + C(n-1, k-1)\n",
        "    else:\n",
        "        return n\n",
        "\n",
        "#создаём и заполняем массив значений P(x)\n",
        "y_mas = []\n",
        "for i in range(len(k)):\n",
        "  s = C(n,i)\n",
        "  y_mas.append(round(s*(p**i)*((1-p)**(n-i)),4))\n",
        "\n",
        "#Рисование графика\n",
        "plt.subplot(211)\n",
        "plt.grid()\n",
        "for i in k:\n",
        "  x = np.linspace(0+i,1+i)\n",
        "  y = [y_mas[i] for j in x]\n",
        "  plt.plot(x,y,color=\"Black\")\n",
        "\n",
        "#Окрашивание точек, которые включены\n",
        "for i in range(len(k)):\n",
        "  plt.scatter(k[i],y_mas[i],color=\"Black\",s=35, marker=\"o\")\n",
        "\n",
        "\n"
      ],
      "execution_count": 141,
      "outputs": [
        {
          "output_type": "stream",
          "text": [
            "Введите p(0<p<1): \n",
            "0.4\n",
            "Введите n(целое): \n",
            "10\n"
          ],
          "name": "stdout"
        },
        {
          "output_type": "display_data",
          "data": {
            "image/png": "[encoded data removed]",
            "text/plain": [
              "<Figure size 432x288 with 1 Axes>"
            ]
          },
          "metadata": {
            "tags": [],
            "needs_background": "light"
          }
        }
      ]
    },
    {
      "cell_type": "code",
      "metadata": {
        "id": "a31q0c8SvUj1"
      },
      "source": [
        ""
      ],
      "execution_count": null,
      "outputs": []
    }
  ]
}