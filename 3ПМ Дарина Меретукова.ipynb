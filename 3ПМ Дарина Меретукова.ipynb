{
  "nbformat": 4,
  "nbformat_minor": 0,
  "metadata": {
    "colab": {
      "name": "Darina Meretukova.ipynb",
      "provenance": [],
      "authorship_tag": "ABX9TyPdHJxXjldtSfLurtOFFo4j",
      "include_colab_link": true
    },
    "kernelspec": {
      "name": "python3",
      "display_name": "Python 3"
    }
  },
  "cells": [
    {
      "cell_type": "markdown",
      "metadata": {
        "id": "view-in-github",
        "colab_type": "text"
      },
      "source": [
        "<a href=\"https://colab.research.google.com/github/Groupac/Collab/blob/master/3%D0%9F%D0%9C%20%D0%94%D0%B0%D1%80%D0%B8%D0%BD%D0%B0%20%D0%9C%D0%B5%D1%80%D0%B5%D1%82%D1%83%D0%BA%D0%BE%D0%B2%D0%B0/Darina_Meretukova.ipynb\" target=\"_parent\"><img src=\"https://colab.research.google.com/assets/colab-badge.svg\" alt=\"Open In Colab\"/></a>"
      ]
    },
    {
      "cell_type": "code",
      "metadata": {
        "id": "oanp4fuqQAxg",
        "outputId": "51fc658b-a982-4c98-f9e4-e7037a601d13",
        "colab": {
          "base_uri": "https://localhost:8080/",
          "height": 34
        }
      },
      "source": [
        "print(\"Hello Wotld\")"
      ],
      "execution_count": null,
      "outputs": [
        {
          "output_type": "stream",
          "text": [
            "Hello Wotld\n"
          ],
          "name": "stdout"
        }
      ]
    }
  ]
}